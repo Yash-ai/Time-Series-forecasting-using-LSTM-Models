{
 "cells": [
  {
   "cell_type": "markdown",
   "metadata": {
    "collapsed": true
   },
   "source": [
    "Time Series Forcasting with LSTM model"
   ]
  },
  {
   "cell_type": "code",
   "execution_count": 1,
   "metadata": {},
   "outputs": [],
   "source": [
    "import warnings\n",
    "warnings.simplefilter(\"ignore\")"
   ]
  },
  {
   "cell_type": "code",
   "execution_count": 2,
   "metadata": {},
   "outputs": [
    {
     "name": "stderr",
     "output_type": "stream",
     "text": [
      "Using TensorFlow backend.\n"
     ]
    }
   ],
   "source": [
    "#importing the necessary packages\n",
    "import pandas\n",
    "import matplotlib.pyplot as plt\n",
    "import numpy\n",
    "import matplotlib.pyplot as plt\n",
    "import pandas\n",
    "import math\n",
    "from keras.models import Sequential\n",
    "from keras.layers import Dense\n",
    "from keras.layers import LSTM\n",
    "from sklearn.preprocessing import MinMaxScaler\n",
    "from sklearn.metrics import mean_squared_error\n",
    "import numpy as np"
   ]
  },
  {
   "cell_type": "code",
   "execution_count": 3,
   "metadata": {},
   "outputs": [
    {
     "data": {
      "image/png": "[encoded data removed]",
      "text/plain": [
       "<matplotlib.figure.Figure at 0x1fb446470b8>"
      ]
     },
     "metadata": {},
     "output_type": "display_data"
    },
    {
     "name": "stdout",
     "output_type": "stream",
     "text": [
      "2791 1376\n"
     ]
    }
   ],
   "source": [
    "dataset = pandas.read_csv('sp500.csv', usecols=[0], engine='python', skipfooter=3)\n",
    "plt.plot(dataset)\n",
    "plt.show()\n",
    "# normalize the dataset\n",
    "scaler = MinMaxScaler(feature_range=(0, 1))\n",
    "dataset = scaler.fit_transform(dataset)\n",
    "# split into train and test sets\n",
    "train_size = int(len(dataset) * 0.67)\n",
    "test_size = len(dataset) - train_size\n",
    "train, test = dataset[0:train_size,:], dataset[train_size:len(dataset),:]\n",
    "print(len(train), len(test))"
   ]
  },
  {
   "cell_type": "code",
   "execution_count": 4,
   "metadata": {},
   "outputs": [
    {
     "name": "stdout",
     "output_type": "stream",
     "text": [
      "2791 1376\n"
     ]
    }
   ],
   "source": [
    "\n",
    "# split into train and test sets\n",
    "train_size = int(len(dataset) * 0.67)\n",
    "test_size = len(dataset) - train_size\n",
    "train, test = dataset[0:train_size,:], dataset[train_size:len(dataset),:]\n",
    "print(len(train), len(test))"
   ]
  },
  {
   "cell_type": "code",
   "execution_count": 5,
   "metadata": {},
   "outputs": [
    {
     "name": "stdout",
     "output_type": "stream",
     "text": [
      "[[ 0.48240909]\n",
      " [ 0.48420417]\n",
      " [ 0.48509838]\n",
      " ..., \n",
      " [ 0.99562893]\n",
      " [ 0.99609603]\n",
      " [ 0.99436106]]\n"
     ]
    }
   ],
   "source": [
    "print(dataset)"
   ]
  },
  {
   "cell_type": "code",
   "execution_count": 6,
   "metadata": {},
   "outputs": [],
   "source": [
    "def create_dataset(dataset, look_back=1):\n",
    "\tdataX, dataY = [], []\n",
    "\tfor i in range(len(dataset)-look_back-1):\n",
    "\t\ta = dataset[i:(i+look_back), 0]\n",
    "\t\tdataX.append(a)\n",
    "\t\tdataY.append(dataset[i + look_back, 0])\n",
    "\treturn np.array(dataX), np.array(dataY)"
   ]
  },
  {
   "cell_type": "code",
   "execution_count": 7,
   "metadata": {},
   "outputs": [],
   "source": [
    "look_back = 1\n",
    "trainX, trainY = create_dataset(train, look_back)\n",
    "testX, testY = create_dataset(test, look_back)"
   ]
  },
  {
   "cell_type": "code",
   "execution_count": 8,
   "metadata": {},
   "outputs": [
    {
     "data": {
      "text/plain": [
       "(2789, 1)"
      ]
     },
     "execution_count": 8,
     "metadata": {},
     "output_type": "execute_result"
    }
   ],
   "source": [
    "trainX.shape"
   ]
  },
  {
   "cell_type": "code",
   "execution_count": 9,
   "metadata": {},
   "outputs": [
    {
     "name": "stdout",
     "output_type": "stream",
     "text": [
      "(2789, 1)\n"
     ]
    }
   ],
   "source": [
    "print(trainX.shape)"
   ]
  },
  {
   "cell_type": "code",
   "execution_count": 10,
   "metadata": {},
   "outputs": [],
   "source": [
    "\n",
    "# reshape input to be [samples, time steps, features]\n",
    "trainX = np.reshape(trainX, (trainX.shape[0], 1, trainX.shape[1]))\n",
    "testX = np.reshape(testX, (testX.shape[0], 1, testX.shape[1]))"
   ]
  },
  {
   "cell_type": "code",
   "execution_count": 11,
   "metadata": {},
   "outputs": [
    {
     "name": "stdout",
     "output_type": "stream",
     "text": [
      "Epoch 1/100\n",
      "5s - loss: 0.0414\n",
      "Epoch 2/100\n",
      "2s - loss: 0.0095\n",
      "Epoch 3/100\n",
      "2s - loss: 0.0069\n",
      "Epoch 4/100\n",
      "2s - loss: 0.0041\n",
      "Epoch 5/100\n",
      "3s - loss: 0.0017\n",
      "Epoch 6/100\n",
      "3s - loss: 4.4952e-04\n",
      "Epoch 7/100\n",
      "2s - loss: 1.3728e-04\n",
      "Epoch 8/100\n",
      "2s - loss: 1.0282e-04\n",
      "Epoch 9/100\n",
      "2s - loss: 1.0066e-04\n",
      "Epoch 10/100\n",
      "2s - loss: 1.0113e-04\n",
      "Epoch 11/100\n",
      "2s - loss: 1.0069e-04\n",
      "Epoch 12/100\n",
      "2s - loss: 1.0173e-04\n",
      "Epoch 13/100\n",
      "2s - loss: 1.0100e-04\n",
      "Epoch 14/100\n",
      "2s - loss: 1.0123e-04\n",
      "Epoch 15/100\n",
      "2s - loss: 1.0168e-04\n",
      "Epoch 16/100\n",
      "2s - loss: 1.0134e-04\n",
      "Epoch 17/100\n",
      "3s - loss: 1.0305e-04\n",
      "Epoch 18/100\n",
      "3s - loss: 1.0185e-04\n",
      "Epoch 19/100\n",
      "2s - loss: 1.0321e-04\n",
      "Epoch 20/100\n",
      "2s - loss: 1.0236e-04\n",
      "Epoch 21/100\n",
      "2s - loss: 1.0242e-04\n",
      "Epoch 22/100\n",
      "2s - loss: 1.0214e-04\n",
      "Epoch 23/100\n",
      "2s - loss: 1.0493e-04\n",
      "Epoch 24/100\n",
      "2s - loss: 1.0274e-04\n",
      "Epoch 25/100\n",
      "2s - loss: 1.0207e-04\n",
      "Epoch 26/100\n",
      "3s - loss: 1.0290e-04\n",
      "Epoch 27/100\n",
      "3s - loss: 1.0291e-04\n",
      "Epoch 28/100\n",
      "2s - loss: 1.0274e-04\n",
      "Epoch 29/100\n",
      "2s - loss: 1.0243e-04\n",
      "Epoch 30/100\n",
      "3s - loss: 1.0304e-04\n",
      "Epoch 31/100\n",
      "2s - loss: 1.0304e-04\n",
      "Epoch 32/100\n",
      "3s - loss: 1.0422e-04\n",
      "Epoch 33/100\n",
      "3s - loss: 1.0208e-04\n",
      "Epoch 34/100\n",
      "3s - loss: 1.0448e-04\n",
      "Epoch 35/100\n",
      "2s - loss: 1.0287e-04\n",
      "Epoch 36/100\n",
      "2s - loss: 1.0332e-04\n",
      "Epoch 37/100\n",
      "3s - loss: 1.0287e-04\n",
      "Epoch 38/100\n",
      "3s - loss: 1.0423e-04\n",
      "Epoch 39/100\n",
      "2s - loss: 1.0496e-04\n",
      "Epoch 40/100\n",
      "3s - loss: 1.0350e-04\n",
      "Epoch 41/100\n",
      "2s - loss: 1.0281e-04\n",
      "Epoch 42/100\n",
      "3s - loss: 1.0418e-04\n",
      "Epoch 43/100\n",
      "2s - loss: 1.0281e-04\n",
      "Epoch 44/100\n",
      "2s - loss: 1.0471e-04\n",
      "Epoch 45/100\n",
      "2s - loss: 1.0287e-04\n",
      "Epoch 46/100\n",
      "2s - loss: 1.0360e-04\n",
      "Epoch 47/100\n",
      "2s - loss: 1.0310e-04\n",
      "Epoch 48/100\n",
      "2s - loss: 1.0301e-04\n",
      "Epoch 49/100\n",
      "2s - loss: 1.0467e-04\n",
      "Epoch 50/100\n",
      "3s - loss: 1.0371e-04\n",
      "Epoch 51/100\n",
      "3s - loss: 1.0405e-04\n",
      "Epoch 52/100\n",
      "2s - loss: 1.0317e-04\n",
      "Epoch 53/100\n",
      "2s - loss: 1.0321e-04\n",
      "Epoch 54/100\n",
      "2s - loss: 1.0302e-04\n",
      "Epoch 55/100\n",
      "2s - loss: 1.0285e-04\n",
      "Epoch 56/100\n",
      "2s - loss: 1.0383e-04\n",
      "Epoch 57/100\n",
      "2s - loss: 1.0281e-04\n",
      "Epoch 58/100\n",
      "2s - loss: 1.0320e-04\n",
      "Epoch 59/100\n",
      "3s - loss: 1.0306e-04\n",
      "Epoch 60/100\n",
      "3s - loss: 1.0222e-04\n",
      "Epoch 61/100\n",
      "2s - loss: 1.0416e-04\n",
      "Epoch 62/100\n",
      "2s - loss: 1.0453e-04\n",
      "Epoch 63/100\n",
      "2s - loss: 1.0368e-04\n",
      "Epoch 64/100\n",
      "2s - loss: 1.0491e-04\n",
      "Epoch 65/100\n",
      "3s - loss: 1.0270e-04\n",
      "Epoch 66/100\n",
      "2s - loss: 1.0346e-04\n",
      "Epoch 67/100\n",
      "3s - loss: 1.0367e-04\n",
      "Epoch 68/100\n",
      "2s - loss: 1.0239e-04\n",
      "Epoch 69/100\n",
      "2s - loss: 1.0397e-04\n",
      "Epoch 70/100\n",
      "3s - loss: 1.0340e-04\n",
      "Epoch 71/100\n",
      "3s - loss: 1.0283e-04\n",
      "Epoch 72/100\n",
      "2s - loss: 1.0434e-04\n",
      "Epoch 73/100\n",
      "2s - loss: 1.0330e-04\n",
      "Epoch 74/100\n",
      "2s - loss: 1.0559e-04\n",
      "Epoch 75/100\n",
      "2s - loss: 1.0333e-04\n",
      "Epoch 76/100\n",
      "2s - loss: 1.0310e-04\n",
      "Epoch 77/100\n",
      "2s - loss: 1.0340e-04\n",
      "Epoch 78/100\n",
      "2s - loss: 1.0330e-04\n",
      "Epoch 79/100\n",
      "2s - loss: 1.0462e-04\n",
      "Epoch 80/100\n",
      "2s - loss: 1.0248e-04\n",
      "Epoch 81/100\n",
      "2s - loss: 1.0422e-04\n",
      "Epoch 82/100\n",
      "2s - loss: 1.0380e-04\n",
      "Epoch 83/100\n",
      "2s - loss: 1.0447e-04\n",
      "Epoch 84/100\n",
      "2s - loss: 1.0254e-04\n",
      "Epoch 85/100\n",
      "2s - loss: 1.0200e-04\n",
      "Epoch 86/100\n",
      "2s - loss: 1.0178e-04\n",
      "Epoch 87/100\n",
      "3s - loss: 1.0254e-04\n",
      "Epoch 88/100\n",
      "3s - loss: 1.0447e-04\n",
      "Epoch 89/100\n",
      "3s - loss: 1.0597e-04\n",
      "Epoch 90/100\n",
      "2s - loss: 1.0243e-04\n",
      "Epoch 91/100\n",
      "3s - loss: 1.0264e-04\n",
      "Epoch 92/100\n",
      "3s - loss: 1.0566e-04\n",
      "Epoch 93/100\n",
      "2s - loss: 1.0378e-04\n",
      "Epoch 94/100\n",
      "3s - loss: 1.0482e-04\n",
      "Epoch 95/100\n",
      "2s - loss: 1.0284e-04\n",
      "Epoch 96/100\n",
      "2s - loss: 1.0324e-04\n",
      "Epoch 97/100\n",
      "2s - loss: 1.0312e-04\n",
      "Epoch 98/100\n",
      "2s - loss: 1.0337e-04\n",
      "Epoch 99/100\n",
      "2s - loss: 1.0336e-04\n",
      "Epoch 100/100\n",
      "3s - loss: 1.0369e-04\n"
     ]
    },
    {
     "data": {
      "text/plain": [
       "<keras.callbacks.History at 0x1fb44cdf278>"
      ]
     },
     "execution_count": 11,
     "metadata": {},
     "output_type": "execute_result"
    }
   ],
   "source": [
    "\n",
    "# create and fit the LSTM network\n",
    "model = Sequential()\n",
    "model.add(LSTM(4, input_shape=(1, look_back)))\n",
    "model.add(Dense(1))\n",
    "model.compile(loss='mean_squared_error', optimizer='adam')\n",
    "model.fit(trainX, trainY, epochs=100, batch_size=10, verbose=2)"
   ]
  },
  {
   "cell_type": "code",
   "execution_count": 12,
   "metadata": {},
   "outputs": [
    {
     "name": "stdout",
     "output_type": "stream",
     "text": [
      "Train Score: 15.19 RMSE\n",
      "Test Score: 65.64 RMSE\n"
     ]
    }
   ],
   "source": [
    "trainPredict = model.predict(trainX)\n",
    "testPredict = model.predict(testX)\n",
    "# invert predictions\n",
    "trainPredict = scaler.inverse_transform(trainPredict)\n",
    "trainY = scaler.inverse_transform([trainY])\n",
    "testPredict = scaler.inverse_transform(testPredict)\n",
    "testY = scaler.inverse_transform([testY])\n",
    "# calculate root mean squared error\n",
    "trainScore = math.sqrt(mean_squared_error(trainY[0], trainPredict[:,0]))\n",
    "print('Train Score: %.2f RMSE' % (trainScore))\n",
    "testScore = math.sqrt(mean_squared_error(testY[0], testPredict[:,0]))\n",
    "print('Test Score: %.2f RMSE' % (testScore))"
   ]
  },
  {
   "cell_type": "code",
   "execution_count": 13,
   "metadata": {},
   "outputs": [
    {
     "data": {
      "image/png": "[encoded data removed]",
      "text/plain": [
       "<matplotlib.figure.Figure at 0x1fb44951080>"
      ]
     },
     "metadata": {},
     "output_type": "display_data"
    }
   ],
   "source": [
    "\n",
    "# shift train predictions for plotting\n",
    "trainPredictPlot = np.empty_like(dataset)\n",
    "trainPredictPlot[:, :] = np.nan\n",
    "trainPredictPlot[look_back:len(trainPredict)+look_back, :] = trainPredict\n",
    "# shift test predictions for plotting\n",
    "testPredictPlot = np.empty_like(dataset)\n",
    "testPredictPlot[:, :] = np.nan\n",
    "testPredictPlot[len(trainPredict)+(look_back*2)+1:len(dataset)-1, :] = testPredict\n",
    "# plot baseline and predictions\n",
    "plt.plot(scaler.inverse_transform(dataset)) # converts 0-1 back to original number;\n",
    "plt.plot(trainPredictPlot)\n",
    "plt.plot(testPredictPlot)\n",
    "plt.show()"
   ]
  },
  {
   "cell_type": "code",
   "execution_count": null,
   "metadata": {},
   "outputs": [],
   "source": []
  }
 ],
 "metadata": {
  "kernelspec": {
   "display_name": "Python 3",
   "language": "python",
   "name": "python3"
  },
  "language_info": {
   "codemirror_mode": {
    "name": "ipython",
    "version": 3
   },
   "file_extension": ".py",
   "mimetype": "text/x-python",
   "name": "python",
   "nbconvert_exporter": "python",
   "pygments_lexer": "ipython3",
   "version": "3.6.4"
  }
 },
 "nbformat": 4,
 "nbformat_minor": 2
}
